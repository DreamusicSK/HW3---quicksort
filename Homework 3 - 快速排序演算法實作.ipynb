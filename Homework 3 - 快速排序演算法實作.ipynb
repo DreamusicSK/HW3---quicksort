{
 "cells": [
  {
   "cell_type": "code",
   "execution_count": 5,
   "id": "87633ec4",
   "metadata": {},
   "outputs": [
    {
     "name": "stdout",
     "output_type": "stream",
     "text": [
      "5\n",
      "4\n",
      "[3, 25, 8, 13, 33, 119, 54, 84, 67, 41]\n",
      "1\n",
      "0\n",
      "[3, 25, 8, 13, 33, 119, 54, 84, 67, 41]\n",
      "4\n",
      "3\n",
      "[3, 13, 8, 25, 33, 119, 54, 84, 67, 41]\n",
      "3\n",
      "2\n",
      "[3, 8, 13, 25, 33, 119, 54, 84, 67, 41]\n",
      "10\n",
      "9\n",
      "[3, 8, 13, 25, 33, 41, 54, 84, 67, 119]\n",
      "6\n",
      "5\n",
      "[3, 8, 13, 25, 33, 41, 54, 84, 67, 119]\n",
      "7\n",
      "6\n",
      "[3, 8, 13, 25, 33, 41, 54, 84, 67, 119]\n",
      "9\n",
      "8\n",
      "[3, 8, 13, 25, 33, 41, 54, 67, 84, 119]\n"
     ]
    }
   ],
   "source": [
    "def quicksort_recursive_print(arr, start, end):\n",
    "#設定終止條件\n",
    "    if start >= end:\n",
    "        return\n",
    "    #設定基準點\n",
    "    pivot = arr[start]\n",
    "    #設定指針\n",
    "    left = start + 1\n",
    "    right = end\n",
    "    \n",
    "    #開始交換\n",
    "    while left <= right:\n",
    "        #左指針大於基準點且右指針小於基準點,交換\n",
    "        if arr[left] > pivot and arr[right] < pivot:\n",
    "            arr[left], arr[right] = arr[right], arr[left]\n",
    "        #左指針小於等於基準點,右移\n",
    "        if arr[left] <= pivot:\n",
    "            left += 1\n",
    "        #右指針小於等於基準點,左移\n",
    "        if arr[right] >= pivot:\n",
    "            right -= 1\n",
    "    \n",
    "    #基準點歸位\n",
    "    arr[start], arr[right] = arr[right], arr[start]\n",
    "    \n",
    "    #輸出查看指標\n",
    "    print(left)\n",
    "    print(right)\n",
    "    \n",
    "    #輸出排序過程\n",
    "    print(arr)\n",
    "    \n",
    "    #遞迴處理左右\n",
    "    quicksort_recursive_print(arr, start, right-1)\n",
    "    quicksort_recursive_print(arr, right+1, end)\n",
    "\n",
    "#帶入範例\n",
    "arr = [33, 67, 8, 13, 54, 119, 3, 84, 25, 41]\n",
    "quicksort_recursive_print(arr, 0, len(arr)-1)\n"
   ]
  },
  {
   "cell_type": "code",
   "execution_count": null,
   "id": "d6b4a285",
   "metadata": {},
   "outputs": [],
   "source": []
  },
  {
   "cell_type": "code",
   "execution_count": null,
   "id": "0e2d91bf",
   "metadata": {},
   "outputs": [],
   "source": []
  }
 ],
 "metadata": {
  "kernelspec": {
   "display_name": "Python 3",
   "language": "python",
   "name": "python3"
  },
  "language_info": {
   "codemirror_mode": {
    "name": "ipython",
    "version": 3
   },
   "file_extension": ".py",
   "mimetype": "text/x-python",
   "name": "python",
   "nbconvert_exporter": "python",
   "pygments_lexer": "ipython3",
   "version": "3.8.8"
  }
 },
 "nbformat": 4,
 "nbformat_minor": 5
}
